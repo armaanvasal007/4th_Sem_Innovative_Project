{
 "cells": [
  {
   "cell_type": "code",
   "execution_count": 8,
   "id": "b2933b10-03cd-4650-8fe3-105cfb4ae473",
   "metadata": {},
   "outputs": [
    {
     "name": "stdout",
     "output_type": "stream",
     "text": [
      "✅ Knowledge Graph saved as: legal_sections_knowledge_graph.ttl\n"
     ]
    }
   ],
   "source": [
    "import json\n",
    "import rdflib\n",
    "\n",
    "# Load JSON file\n",
    "input_file = \"C:/Users/HP/Desktop/DOWRY_REFINED(level2)/dowry_prohibition_act_refined.json\"\n",
    "output_ttl = \"legal_sections_knowledge_graph.ttl\"\n",
    "\n",
    "with open(input_file, \"r\", encoding=\"utf-8\") as file:\n",
    "    data = json.load(file)\n",
    "\n",
    "# Create an RDF Graph\n",
    "g = rdflib.Graph()\n",
    "\n",
    "# Define RDF Namespace\n",
    "namespace = rdflib.Namespace(\"http://example.org/legal/\")\n",
    "\n",
    "# Define Act as Class\n",
    "act_uri = namespace[data[\"Act\"].replace(\" \", \"_\")]\n",
    "g.add((act_uri, rdflib.RDF.type, namespace[\"Act\"]))\n",
    "g.add((act_uri, namespace[\"name\"], rdflib.Literal(data[\"Act\"])))\n",
    "\n",
    "# Iterate through sections and add them to the graph\n",
    "for section in data[\"Sections\"]:\n",
    "    section_uri = namespace[f\"Section_{section['SectionNumber']}\"]\n",
    "    \n",
    "    # Define Section as Class\n",
    "    g.add((section_uri, rdflib.RDF.type, namespace[\"Section\"]))\n",
    "    \n",
    "    # Add properties\n",
    "    g.add((section_uri, namespace[\"sectionNumber\"], rdflib.Literal(section[\"SectionNumber\"])))\n",
    "    g.add((section_uri, namespace[\"title\"], rdflib.Literal(section[\"Title\"])))\n",
    "    g.add((section_uri, namespace[\"content\"], rdflib.Literal(section[\"Content\"])))\n",
    "    \n",
    "    # Link Section to the Act\n",
    "    g.add((section_uri, namespace[\"belongsToAct\"], act_uri))\n",
    "\n",
    "# Serialize and save RDF graph in Turtle format\n",
    "g.serialize(destination=output_ttl, format=\"turtle\")\n",
    "\n",
    "print(f\"✅ Knowledge Graph saved as: {output_ttl}\")\n"
   ]
  },
  {
   "cell_type": "code",
   "execution_count": null,
   "id": "42c76570-7281-45b9-8f3a-88668dcf2429",
   "metadata": {},
   "outputs": [],
   "source": []
  }
 ],
 "metadata": {
  "kernelspec": {
   "display_name": "Python 3 (ipykernel)",
   "language": "python",
   "name": "python3"
  },
  "language_info": {
   "codemirror_mode": {
    "name": "ipython",
    "version": 3
   },
   "file_extension": ".py",
   "mimetype": "text/x-python",
   "name": "python",
   "nbconvert_exporter": "python",
   "pygments_lexer": "ipython3",
   "version": "3.12.4"
  }
 },
 "nbformat": 4,
 "nbformat_minor": 5
}
